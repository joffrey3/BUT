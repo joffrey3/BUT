{
  "cells": [
    {
      "cell_type": "code",
      "execution_count": 3,
      "metadata": {
        "trusted": true
      },
      "outputs": [
        {
          "name": "stdout",
          "output_type": "stream",
          "text": [
            "2*[1 2 3] - [4 5 6] = [-2 -1  0]\n",
            "ouiiiiiiii\n"
          ]
        }
      ],
      "source": [
        "# https://www.w3schools.com/python/default.asp\n",
        "# https://docs.python.org/3/tutorial/index.html\n",
        "\n",
        "# une bibliothéque pour des opérations vectorielles\n",
        "import numpy as np\n",
        "\n",
        "U = np.array([1,2,3])\n",
        "V = np.array([4,5,6])\n",
        "\n",
        "print(f'2*{U} - {V} = {2*U-V}')"
      ]
    },
    {
      "cell_type": "code",
      "execution_count": 23,
      "metadata": {
        "trusted": true
      },
      "outputs": [
        {
          "name": "stdout",
          "output_type": "stream",
          "text": [
            "77\n"
          ]
        }
      ],
      "source": [
        "# définition d'une fonction (que renvoit-elle ?)\n",
        "# indentation est utilisée pour délimiter des blocs de code\n",
        "#def fib(n):\n",
        "    # affectations simultanées\n",
        "#    a, b, k = 1, 1, 0\n",
        "\n",
        "    # boucle while\n",
        "#    while a < n:\n",
        "#        a, b, k = b, a+b, k+1\n",
        "\n",
        "#    print(f'F{k} = {a}')\n",
        "\n",
        "#fib(1000000)\n",
        "\n",
        "# EXERCICE 1\n",
        "# écrire une fonction qui prend deux nombres entiers et calcule leur rélation de Bezout\n",
        "import numpy as np;\n",
        "\n",
        "def bezout(a,b):\n",
        "    \n",
        "    #equation égale au pgcd\n",
        "    c=np.array([a,1,0])\n",
        "    d=np.array([b,0,1])\n",
        "    q=0\n",
        "    while(c[0]!=0 and d[0]!=0):\n",
        "        if(c[0]>d[0]):\n",
        "            q=c[0]//d[0]\n",
        "            c[0],d[0]=d[0],c[0]-q*d[0]\n",
        "        else:\n",
        "            q=d[0]//c[0]\n",
        "            d[0],c[0]=c[0],d[0]-q*c[0]\n",
        "    pgcd=0\n",
        "    u=0\n",
        "    v=0\n",
        "    if(c[0]==0):\n",
        "        pgcd=d[0]\n",
        "        u=d[1]\n",
        "        v=d[2]\n",
        "    if(d[0]==0):\n",
        "        pgcd=c[0]\n",
        "        u=c[1]\n",
        "        v=c[2]\n",
        "    \n",
        "    print(b)\n",
        "    #print({a}*{u}+b*v=pgcd)\n",
        "\n",
        "#def bezout(a, b):\n",
        "#    x, y = (a / abs(a)), -1\n",
        "\n",
        "#    while ((a*x) % b != 1):\n",
        "#        if (x > 0):\n",
        "#            x = x + 1\n",
        "#        else:\n",
        "#            x = x - 1\n",
        "\n",
        "#    while ((a*x) + (b*y) != 1):\n",
        "#        y = y - 1\n",
        "\n",
        "#   return x, y\n",
        "bezout(98,77)"
      ]
    },
    {
      "cell_type": "code",
      "execution_count": 2,
      "metadata": {
        "trusted": true
      },
      "outputs": [
        {
          "name": "stdout",
          "output_type": "stream",
          "text": [
            "12345**6789 = 91425 (mod 101112)\n",
            "37503\n"
          ]
        }
      ],
      "source": [
        "# grandes puissances\n",
        "print(f'12345**6789 = {12345**6789 % 101112} (mod 101112)')\n",
        "\n",
        "# le calcul va devenir long pour des exposants à 1000 chiffres\n",
        "# on peut l'accélérer à l'aide de l'exponentiation rapide :\n",
        "# a**10 = (a**5)**2, a**5 = (a**2)**2 * a, a**2 = a * a (4 multiplications, dont 3 élévations au carré)\n",
        "\n",
        "# EXERCICE 2\n",
        "# écrire une fonction powmod(a, n, m) qui calcule rapidement a**n (mod m)\n",
        "def powmod(a,n,m):\n",
        "    if(n<=1):\n",
        "        return a**n%m\n",
        "    r=powmod(a,n//2,m)**2*powmod(a,n%2,m)\n",
        "    return r%m\n",
        "\n",
        "print(powmod(12345,5678,91011))"
      ]
    },
    {
      "cell_type": "code",
      "execution_count": null,
      "metadata": {},
      "outputs": [],
      "source": [
        "# l'inverse de a modulo m est un entier a' = a**(-1) tel que a*a' = 1 (mod m)\n",
        "# par exemple, 7**(-1) = 13 (mod 15) car 7*13 = 1 (mod 15)\n",
        "# on définit a**(-n) indifféremment comme (a**(-1))**n ou (a**n)**(-1)\n",
        "\n",
        "# EXERCICE 3\n",
        "# étendre la fonction powmod(a, n, m) à des puissances n négatives"
      ]
    }
  ],
  "metadata": {
    "kernelspec": {
      "display_name": "Python 3.10.6 64-bit",
      "language": "python",
      "name": "python3"
    },
    "language_info": {
      "codemirror_mode": {
        "name": "ipython",
        "version": 3
      },
      "file_extension": ".py",
      "mimetype": "text/x-python",
      "name": "python",
      "nbconvert_exporter": "python",
      "pygments_lexer": "ipython3",
      "version": "3.10.6"
    },
    "vscode": {
      "interpreter": {
        "hash": "e7370f93d1d0cde622a1f8e1c04877d8463912d04d973331ad4851f04de6915a"
      }
    }
  },
  "nbformat": 4,
  "nbformat_minor": 4
}
